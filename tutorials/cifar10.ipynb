{
 "nbformat": 4,
 "nbformat_minor": 0,
 "metadata": {
  "colab": {
   "provenance": [],
   "gpuType": "T4"
  },
  "kernelspec": {
   "name": "python3",
   "display_name": "Python 3"
  },
  "language_info": {
   "name": "python"
  },
  "accelerator": "GPU",
  "widgets": {
   "application/vnd.jupyter.widget-state+json": {
    "43a5e0b894954fffb93edb9ac10b2fa1": {
     "model_module": "@jupyter-widgets/controls",
     "model_name": "HBoxModel",
     "model_module_version": "1.5.0",
     "state": {
      "_dom_classes": [],
      "_model_module": "@jupyter-widgets/controls",
      "_model_module_version": "1.5.0",
      "_model_name": "HBoxModel",
      "_view_count": null,
      "_view_module": "@jupyter-widgets/controls",
      "_view_module_version": "1.5.0",
      "_view_name": "HBoxView",
      "box_style": "",
      "children": [
       "IPY_MODEL_9dac151c192a4d70b02f8a28dcf5d6bc",
       "IPY_MODEL_47f3482270154997b42a66a184b6f182",
       "IPY_MODEL_adc068332fc74f859bc8dc5ed5aed2e0"
      ],
      "layout": "IPY_MODEL_11fb04d3803847edb3d53f786154ec96"
     }
    },
    "9dac151c192a4d70b02f8a28dcf5d6bc": {
     "model_module": "@jupyter-widgets/controls",
     "model_name": "HTMLModel",
     "model_module_version": "1.5.0",
     "state": {
      "_dom_classes": [],
      "_model_module": "@jupyter-widgets/controls",
      "_model_module_version": "1.5.0",
      "_model_name": "HTMLModel",
      "_view_count": null,
      "_view_module": "@jupyter-widgets/controls",
      "_view_module_version": "1.5.0",
      "_view_name": "HTMLView",
      "description": "",
      "description_tooltip": null,
      "layout": "IPY_MODEL_edcd2ce72d184d0ca169a74fbd997e1d",
      "placeholder": "​",
      "style": "IPY_MODEL_75238b0d441d4aaa99e747f8000c20f8",
      "value": "train_loss: 0.0007 train_accuracy: 100.0% test_accuracy: 73.7%: 100%"
     }
    },
    "47f3482270154997b42a66a184b6f182": {
     "model_module": "@jupyter-widgets/controls",
     "model_name": "FloatProgressModel",
     "model_module_version": "1.5.0",
     "state": {
      "_dom_classes": [],
      "_model_module": "@jupyter-widgets/controls",
      "_model_module_version": "1.5.0",
      "_model_name": "FloatProgressModel",
      "_view_count": null,
      "_view_module": "@jupyter-widgets/controls",
      "_view_module_version": "1.5.0",
      "_view_name": "ProgressView",
      "bar_style": "success",
      "description": "",
      "description_tooltip": null,
      "layout": "IPY_MODEL_a767300a3774452c989339ee35929886",
      "max": 1950,
      "min": 0,
      "orientation": "horizontal",
      "style": "IPY_MODEL_49769e94c0d94f9f9433b4d389a98e4d",
      "value": 1950
     }
    },
    "adc068332fc74f859bc8dc5ed5aed2e0": {
     "model_module": "@jupyter-widgets/controls",
     "model_name": "HTMLModel",
     "model_module_version": "1.5.0",
     "state": {
      "_dom_classes": [],
      "_model_module": "@jupyter-widgets/controls",
      "_model_module_version": "1.5.0",
      "_model_name": "HTMLModel",
      "_view_count": null,
      "_view_module": "@jupyter-widgets/controls",
      "_view_module_version": "1.5.0",
      "_view_name": "HTMLView",
      "description": "",
      "description_tooltip": null,
      "layout": "IPY_MODEL_f26bc888f45f409081126952e10d3952",
      "placeholder": "​",
      "style": "IPY_MODEL_ec3d6d56e26347cca5a53f6180558c7d",
      "value": " 1950/1950 [50:31&lt;00:00,  1.46s/it]"
     }
    },
    "11fb04d3803847edb3d53f786154ec96": {
     "model_module": "@jupyter-widgets/base",
     "model_name": "LayoutModel",
     "model_module_version": "1.2.0",
     "state": {
      "_model_module": "@jupyter-widgets/base",
      "_model_module_version": "1.2.0",
      "_model_name": "LayoutModel",
      "_view_count": null,
      "_view_module": "@jupyter-widgets/base",
      "_view_module_version": "1.2.0",
      "_view_name": "LayoutView",
      "align_content": null,
      "align_items": null,
      "align_self": null,
      "border": null,
      "bottom": null,
      "display": null,
      "flex": null,
      "flex_flow": null,
      "grid_area": null,
      "grid_auto_columns": null,
      "grid_auto_flow": null,
      "grid_auto_rows": null,
      "grid_column": null,
      "grid_gap": null,
      "grid_row": null,
      "grid_template_areas": null,
      "grid_template_columns": null,
      "grid_template_rows": null,
      "height": null,
      "justify_content": null,
      "justify_items": null,
      "left": null,
      "margin": null,
      "max_height": null,
      "max_width": null,
      "min_height": null,
      "min_width": null,
      "object_fit": null,
      "object_position": null,
      "order": null,
      "overflow": null,
      "overflow_x": null,
      "overflow_y": null,
      "padding": null,
      "right": null,
      "top": null,
      "visibility": null,
      "width": null
     }
    },
    "edcd2ce72d184d0ca169a74fbd997e1d": {
     "model_module": "@jupyter-widgets/base",
     "model_name": "LayoutModel",
     "model_module_version": "1.2.0",
     "state": {
      "_model_module": "@jupyter-widgets/base",
      "_model_module_version": "1.2.0",
      "_model_name": "LayoutModel",
      "_view_count": null,
      "_view_module": "@jupyter-widgets/base",
      "_view_module_version": "1.2.0",
      "_view_name": "LayoutView",
      "align_content": null,
      "align_items": null,
      "align_self": null,
      "border": null,
      "bottom": null,
      "display": null,
      "flex": null,
      "flex_flow": null,
      "grid_area": null,
      "grid_auto_columns": null,
      "grid_auto_flow": null,
      "grid_auto_rows": null,
      "grid_column": null,
      "grid_gap": null,
      "grid_row": null,
      "grid_template_areas": null,
      "grid_template_columns": null,
      "grid_template_rows": null,
      "height": null,
      "justify_content": null,
      "justify_items": null,
      "left": null,
      "margin": null,
      "max_height": null,
      "max_width": null,
      "min_height": null,
      "min_width": null,
      "object_fit": null,
      "object_position": null,
      "order": null,
      "overflow": null,
      "overflow_x": null,
      "overflow_y": null,
      "padding": null,
      "right": null,
      "top": null,
      "visibility": null,
      "width": null
     }
    },
    "75238b0d441d4aaa99e747f8000c20f8": {
     "model_module": "@jupyter-widgets/controls",
     "model_name": "DescriptionStyleModel",
     "model_module_version": "1.5.0",
     "state": {
      "_model_module": "@jupyter-widgets/controls",
      "_model_module_version": "1.5.0",
      "_model_name": "DescriptionStyleModel",
      "_view_count": null,
      "_view_module": "@jupyter-widgets/base",
      "_view_module_version": "1.2.0",
      "_view_name": "StyleView",
      "description_width": ""
     }
    },
    "a767300a3774452c989339ee35929886": {
     "model_module": "@jupyter-widgets/base",
     "model_name": "LayoutModel",
     "model_module_version": "1.2.0",
     "state": {
      "_model_module": "@jupyter-widgets/base",
      "_model_module_version": "1.2.0",
      "_model_name": "LayoutModel",
      "_view_count": null,
      "_view_module": "@jupyter-widgets/base",
      "_view_module_version": "1.2.0",
      "_view_name": "LayoutView",
      "align_content": null,
      "align_items": null,
      "align_self": null,
      "border": null,
      "bottom": null,
      "display": null,
      "flex": null,
      "flex_flow": null,
      "grid_area": null,
      "grid_auto_columns": null,
      "grid_auto_flow": null,
      "grid_auto_rows": null,
      "grid_column": null,
      "grid_gap": null,
      "grid_row": null,
      "grid_template_areas": null,
      "grid_template_columns": null,
      "grid_template_rows": null,
      "height": null,
      "justify_content": null,
      "justify_items": null,
      "left": null,
      "margin": null,
      "max_height": null,
      "max_width": null,
      "min_height": null,
      "min_width": null,
      "object_fit": null,
      "object_position": null,
      "order": null,
      "overflow": null,
      "overflow_x": null,
      "overflow_y": null,
      "padding": null,
      "right": null,
      "top": null,
      "visibility": null,
      "width": null
     }
    },
    "49769e94c0d94f9f9433b4d389a98e4d": {
     "model_module": "@jupyter-widgets/controls",
     "model_name": "ProgressStyleModel",
     "model_module_version": "1.5.0",
     "state": {
      "_model_module": "@jupyter-widgets/controls",
      "_model_module_version": "1.5.0",
      "_model_name": "ProgressStyleModel",
      "_view_count": null,
      "_view_module": "@jupyter-widgets/base",
      "_view_module_version": "1.2.0",
      "_view_name": "StyleView",
      "bar_color": null,
      "description_width": ""
     }
    },
    "f26bc888f45f409081126952e10d3952": {
     "model_module": "@jupyter-widgets/base",
     "model_name": "LayoutModel",
     "model_module_version": "1.2.0",
     "state": {
      "_model_module": "@jupyter-widgets/base",
      "_model_module_version": "1.2.0",
      "_model_name": "LayoutModel",
      "_view_count": null,
      "_view_module": "@jupyter-widgets/base",
      "_view_module_version": "1.2.0",
      "_view_name": "LayoutView",
      "align_content": null,
      "align_items": null,
      "align_self": null,
      "border": null,
      "bottom": null,
      "display": null,
      "flex": null,
      "flex_flow": null,
      "grid_area": null,
      "grid_auto_columns": null,
      "grid_auto_flow": null,
      "grid_auto_rows": null,
      "grid_column": null,
      "grid_gap": null,
      "grid_row": null,
      "grid_template_areas": null,
      "grid_template_columns": null,
      "grid_template_rows": null,
      "height": null,
      "justify_content": null,
      "justify_items": null,
      "left": null,
      "margin": null,
      "max_height": null,
      "max_width": null,
      "min_height": null,
      "min_width": null,
      "object_fit": null,
      "object_position": null,
      "order": null,
      "overflow": null,
      "overflow_x": null,
      "overflow_y": null,
      "padding": null,
      "right": null,
      "top": null,
      "visibility": null,
      "width": null
     }
    },
    "ec3d6d56e26347cca5a53f6180558c7d": {
     "model_module": "@jupyter-widgets/controls",
     "model_name": "DescriptionStyleModel",
     "model_module_version": "1.5.0",
     "state": {
      "_model_module": "@jupyter-widgets/controls",
      "_model_module_version": "1.5.0",
      "_model_name": "DescriptionStyleModel",
      "_view_count": null,
      "_view_module": "@jupyter-widgets/base",
      "_view_module_version": "1.2.0",
      "_view_name": "StyleView",
      "description_width": ""
     }
    }
   }
  }
 },
 "cells": [
  {
   "cell_type": "markdown",
   "source": [
    "# Basic CIFAR-10 training\n",
    "This tutorial will show a minimal example how to train Vision-LSTM on CIFAR-10 from scratch.\n",
    "For simplicity, we omit speed and accuracy optimizations but note them in places where one would need to implement them.\n",
    "\n",
    "The following speed optimizations are omitted:\n",
    "- bfloat16 mixed precision training (this tutorial uses float32 because bfloat16 is not supported on colab T4 cards)\n",
    "- `torch.compile` is not used because compiling the model takes a couple of minutes and might cause confusion thinking that the code crashed despite everything working as intended\n",
    "\n",
    "The following accuracy optimizations are omitted:\n",
    "- image augmentations (RandomResizedCrop, HorizontalFlip, ThreeAugment, Mixup, ...)\n",
    "- a simple linear warmup -> linear decay schedule is used\n",
    "- for optimal performance a longer training schedule would be needed (this tutorial uses 10 epochs)"
   ],
   "metadata": {
    "id": "-cxLk_I8BPLB"
   }
  },
  {
   "cell_type": "code",
   "execution_count": 1,
   "metadata": {
    "colab": {
     "base_uri": "https://localhost:8080/"
    },
    "id": "SwDbpEHx7xtz",
    "outputId": "6f01a0b3-0e56-4f9d-d824-c4598bf02648"
   },
   "outputs": [
    {
     "output_type": "stream",
     "name": "stdout",
     "text": [
      "fatal: destination path 'vision-lstm' already exists and is not an empty directory.\n",
      "/content/vision-lstm\n"
     ]
    }
   ],
   "source": [
    "!git clone https://github.com/NX-AI/vision-lstm\n",
    "%cd vision-lstm"
   ]
  },
  {
   "cell_type": "code",
   "source": [
    "!pip install einops"
   ],
   "metadata": {
    "colab": {
     "base_uri": "https://localhost:8080/"
    },
    "id": "D0MP3Qbu70ex",
    "outputId": "5e7654b4-d4ee-4b5b-b6d9-6623ec09e0a8"
   },
   "execution_count": 2,
   "outputs": [
    {
     "output_type": "stream",
     "name": "stdout",
     "text": [
      "Requirement already satisfied: einops in /usr/local/lib/python3.10/dist-packages (0.8.0)\n"
     ]
    }
   ]
  },
  {
   "cell_type": "code",
   "source": [
    "# general imports\n",
    "import torch\n",
    "from torch import nn\n",
    "from torch.utils.data import DataLoader\n",
    "from tqdm.auto import tqdm\n",
    "import torch.nn.functional as F"
   ],
   "metadata": {
    "id": "LaaRY-0u8DTE"
   },
   "execution_count": 3,
   "outputs": []
  },
  {
   "cell_type": "code",
   "source": [
    "# initialize device\n",
    "if torch.cuda.is_available():\n",
    "    device = torch.device(\"cuda\")\n",
    "    print(torch.cuda.get_device_name())\n",
    "else:\n",
    "    device = torch.device(\"cpu\")\n",
    "print(device)"
   ],
   "metadata": {
    "colab": {
     "base_uri": "https://localhost:8080/"
    },
    "id": "vth34ohN_IgM",
    "outputId": "d37b4eea-f0f3-4701-81df-5c2aa33339c8"
   },
   "execution_count": 4,
   "outputs": [
    {
     "output_type": "stream",
     "name": "stdout",
     "text": [
      "Tesla T4\n",
      "cuda\n"
     ]
    }
   ]
  },
  {
   "cell_type": "code",
   "source": [
    "# create model\n",
    "from vision_lstm import VisionLSTM2\n",
    "model = VisionLSTM2(\n",
    "    dim=192,  # latent dimension (192 for ViL-T)\n",
    "    depth=12,  # how many ViL blocks (1 block consists 2 subblocks of a forward and backward block)\n",
    "    patch_size=4,  # patch_size (results in 64 patches for 32x32 images)\n",
    "    input_shape=(3, 32, 32),  # RGB images with resolution 32x32\n",
    "    output_shape=(10,),  # classifier with 10 classes\n",
    "    drop_path_rate=0.0,  # stochastic depth parameter (disabled for ViL-T)\n",
    ").to(device)\n",
    "print(f\"parameters: {sum(p.numel() for p in model.parameters()) / 1e6:.1f}M\")\n",
    "print(model)"
   ],
   "metadata": {
    "colab": {
     "base_uri": "https://localhost:8080/"
    },
    "id": "jSpqQWhf8XVN",
    "outputId": "b7ee6a13-3846-474d-9021-5174caeaaf46"
   },
   "execution_count": 5,
   "outputs": [
    {
     "output_type": "stream",
     "name": "stdout",
     "text": [
      "parameters: 5.8M\n",
      "VisionLSTM2(\n",
      "  (patch_embed): VitPatchEmbed(\n",
      "    (proj): Conv2d(3, 192, kernel_size=(4, 4), stride=(4, 4))\n",
      "  )\n",
      "  (pos_embed): VitPosEmbed2d()\n",
      "  (blocks): ModuleList(\n",
      "    (0-11): 12 x ViLBlockPair(\n",
      "      (rowwise_from_top_left): ViLBlock(\n",
      "        (drop_path): DropPath(drop_prob=0.000)\n",
      "        (norm): LayerNorm()\n",
      "        (layer): ViLLayer(\n",
      "          (proj_up): Linear(in_features=192, out_features=768, bias=True)\n",
      "          (q_proj): LinearHeadwiseExpand(dim=384, num_heads=96, bias=True, )\n",
      "          (k_proj): LinearHeadwiseExpand(dim=384, num_heads=96, bias=True, )\n",
      "          (v_proj): LinearHeadwiseExpand(dim=384, num_heads=96, bias=True, )\n",
      "          (conv): SequenceConv2d(384, 384, kernel_size=(3, 3), stride=(1, 1), padding=(1, 1), groups=384)\n",
      "          (mlstm_cell): MatrixLSTMCell(\n",
      "            (igate): Linear(in_features=1152, out_features=4, bias=True)\n",
      "            (fgate): Linear(in_features=1152, out_features=4, bias=True)\n",
      "            (outnorm): MultiHeadLayerNorm()\n",
      "          )\n",
      "          (proj_down): Linear(in_features=384, out_features=192, bias=True)\n",
      "        )\n",
      "      )\n",
      "      (rowwise_from_bot_right): ViLBlock(\n",
      "        (drop_path): DropPath(drop_prob=0.000)\n",
      "        (norm): LayerNorm()\n",
      "        (layer): ViLLayer(\n",
      "          (proj_up): Linear(in_features=192, out_features=768, bias=True)\n",
      "          (q_proj): LinearHeadwiseExpand(dim=384, num_heads=96, bias=True, )\n",
      "          (k_proj): LinearHeadwiseExpand(dim=384, num_heads=96, bias=True, )\n",
      "          (v_proj): LinearHeadwiseExpand(dim=384, num_heads=96, bias=True, )\n",
      "          (conv): SequenceConv2d(384, 384, kernel_size=(3, 3), stride=(1, 1), padding=(1, 1), groups=384)\n",
      "          (mlstm_cell): MatrixLSTMCell(\n",
      "            (igate): Linear(in_features=1152, out_features=4, bias=True)\n",
      "            (fgate): Linear(in_features=1152, out_features=4, bias=True)\n",
      "            (outnorm): MultiHeadLayerNorm()\n",
      "          )\n",
      "          (proj_down): Linear(in_features=384, out_features=192, bias=True)\n",
      "        )\n",
      "      )\n",
      "    )\n",
      "  )\n",
      "  (norm): LayerNorm()\n",
      "  (legacy_norm): Identity()\n",
      "  (head): Linear(in_features=384, out_features=10, bias=True)\n",
      ")\n"
     ]
    }
   ]
  },
  {
   "cell_type": "code",
   "source": [
    "# wrap in torch.compile to speedup training\n",
    "# we recommend to use torch.compile, but it results in the first update step taking a couple of minutes\n",
    "# which might cause confusion -> we disable it by default\n",
    "# model = torch.compile(model)"
   ],
   "metadata": {
    "id": "GhMeQoMY_1k5"
   },
   "execution_count": 6,
   "outputs": []
  },
  {
   "cell_type": "code",
   "source": [
    "# create dataset\n",
    "from torchvision.datasets import CIFAR10\n",
    "from torchvision.transforms import ToTensor\n",
    "# datasets without augmentation for simplicity\n",
    "train_dataset = CIFAR10(root=\"./data\", train=True, download=True, transform=ToTensor())\n",
    "test_dataset = CIFAR10(root=\"./data\", train=False, download=False, transform=ToTensor())\n",
    "print(f\"train_dataset length: {len(train_dataset)}\")\n",
    "print(f\"test_dataset length: {len(test_dataset)}\")"
   ],
   "metadata": {
    "colab": {
     "base_uri": "https://localhost:8080/"
    },
    "id": "h31m3hq88qjO",
    "outputId": "2ec96bb2-694d-4fd9-8a92-37c6ad5c357f"
   },
   "execution_count": 7,
   "outputs": [
    {
     "output_type": "stream",
     "name": "stdout",
     "text": [
      "Files already downloaded and verified\n",
      "train_dataset length: 50000\n",
      "test_dataset length: 10000\n"
     ]
    }
   ]
  },
  {
   "cell_type": "code",
   "source": [
    "# hyperparameters\n",
    "batch_size = 256\n",
    "epochs = 10\n",
    "lr = 1e-3\n",
    "weight_decay = 0.05"
   ],
   "metadata": {
    "id": "8Geg_c7Q_d24"
   },
   "execution_count": 8,
   "outputs": []
  },
  {
   "cell_type": "code",
   "source": [
    "# setup dataloaders\n",
    "train_dataloader = DataLoader(train_dataset, batch_size=batch_size, shuffle=True, drop_last=True)\n",
    "test_dataloader = DataLoader(test_dataset, batch_size=batch_size)\n",
    "\n",
    "# initialize optimizer and learning rate schedule (linear warmup for first 10% -> linear decay)\n",
    "optim = torch.optim.AdamW(model.parameters(), lr=lr, weight_decay=weight_decay)\n",
    "total_updates = len(train_dataloader) * epochs\n",
    "warmup_updates = int(total_updates * 0.1)\n",
    "lrs = torch.concat(\n",
    "    [\n",
    "        # linear warmup\n",
    "        torch.linspace(0, optim.defaults[\"lr\"], warmup_updates),\n",
    "        # linear decay\n",
    "        torch.linspace(optim.defaults[\"lr\"], 0, total_updates - warmup_updates),\n",
    "    ],\n",
    ")\n",
    "\n",
    "# train model\n",
    "update = 0\n",
    "pbar = tqdm(total=total_updates)\n",
    "pbar.update(0)\n",
    "pbar.set_description(\"train_loss: ????? train_accuracy: ????% test_accuracy: ????%\")\n",
    "test_accuracy = 0.0\n",
    "train_losses = []\n",
    "train_accuracies = []\n",
    "test_accuracies = []\n",
    "loss = None\n",
    "train_accuracy = None\n",
    "for _ in range(epochs):\n",
    "    # train for an epoch\n",
    "    model.train()\n",
    "    for x, y in train_dataloader:\n",
    "        # prepare forward pass\n",
    "        x = x.to(device)\n",
    "        y = y.to(device)\n",
    "\n",
    "        # schedule learning rate\n",
    "        for param_group in optim.param_groups:\n",
    "            param_group[\"lr\"] = lrs[update]\n",
    "\n",
    "        # forward pass (this tutorial doesnt use mixed precision because T4 cards dont support bfloat16)\n",
    "        # we recommend bfloat16 mixed precision training\n",
    "        y_hat = model(x)\n",
    "        loss = F.cross_entropy(y_hat, y)\n",
    "\n",
    "        # backward pass\n",
    "        loss.backward()\n",
    "\n",
    "        # update step\n",
    "        optim.step()\n",
    "        optim.zero_grad()\n",
    "\n",
    "        # status update\n",
    "        train_accuracy = ((y_hat.argmax(dim=1) == y).sum() / y.numel()).item()\n",
    "        update += 1\n",
    "        pbar.update()\n",
    "        pbar.set_description(\n",
    "            f\"train_loss: {loss.item():.4f} \"\n",
    "            f\"train_accuracy: {train_accuracy * 100:4.1f}% \"\n",
    "            f\"test_accuracy: {test_accuracy * 100:4.1f}%\"\n",
    "        )\n",
    "        train_losses.append(loss.item())\n",
    "        train_accuracies.append(train_accuracy)\n",
    "\n",
    "    # evaluate\n",
    "    num_correct = 0\n",
    "    model.eval()\n",
    "    for x, y in test_dataloader:\n",
    "        x = x.to(device)\n",
    "        y = y.to(device)\n",
    "        with torch.no_grad():\n",
    "            y_hat = model(x)\n",
    "            num_correct += (y_hat.argmax(dim=1) == y).sum().item()\n",
    "    test_accuracy = num_correct / len(test_dataset)\n",
    "    test_accuracies.append(test_accuracy)\n",
    "    pbar.set_description(\n",
    "        f\"train_loss: {loss.item():.4f} \"\n",
    "        f\"train_accuracy: {train_accuracy * 100:4.1f}% \"\n",
    "        f\"test_accuracy: {test_accuracy * 100:4.1f}%\"\n",
    "    )\n",
    "pbar.close()"
   ],
   "metadata": {
    "colab": {
     "base_uri": "https://localhost:8080/",
     "height": 49,
     "referenced_widgets": [
      "43a5e0b894954fffb93edb9ac10b2fa1",
      "9dac151c192a4d70b02f8a28dcf5d6bc",
      "47f3482270154997b42a66a184b6f182",
      "adc068332fc74f859bc8dc5ed5aed2e0",
      "11fb04d3803847edb3d53f786154ec96",
      "edcd2ce72d184d0ca169a74fbd997e1d",
      "75238b0d441d4aaa99e747f8000c20f8",
      "a767300a3774452c989339ee35929886",
      "49769e94c0d94f9f9433b4d389a98e4d",
      "f26bc888f45f409081126952e10d3952",
      "ec3d6d56e26347cca5a53f6180558c7d"
     ]
    },
    "id": "C0Ze3sVW74yv",
    "outputId": "f00f0f3e-c79c-4d99-af6b-d6aad7e1e792"
   },
   "execution_count": 9,
   "outputs": [
    {
     "output_type": "display_data",
     "data": {
      "text/plain": [
       "  0%|          | 0/1950 [00:00<?, ?it/s]"
      ],
      "application/vnd.jupyter.widget-view+json": {
       "version_major": 2,
       "version_minor": 0,
       "model_id": "43a5e0b894954fffb93edb9ac10b2fa1"
      }
     },
     "metadata": {}
    }
   ]
  },
  {
   "cell_type": "code",
   "source": [
    "# plot training curves\n",
    "import matplotlib.pyplot as plt\n",
    "_, axes = plt.subplots(1, 3, figsize=(18, 5))\n",
    "axes[0].plot(range(len(train_losses)), train_losses)\n",
    "axes[0].set_xlabel(\"Updates\")\n",
    "axes[0].set_ylabel(\"Train Loss\")\n",
    "axes[0].set_title(\"Train Loss\")\n",
    "axes[0].grid(True)\n",
    "axes[1].plot(range(len(train_accuracies)), train_accuracies)\n",
    "axes[1].set_xlabel(\"Updates\")\n",
    "axes[1].set_ylabel(\"Train Accuracy\")\n",
    "axes[1].set_title(\"Train Accuracy\")\n",
    "axes[1].grid(True)\n",
    "axes[2].plot(range(len(test_accuracies)), test_accuracies, marker=\"o\")\n",
    "axes[2].set_xlabel(\"Epochs\")\n",
    "axes[2].set_ylabel(\"Test Accuracy\")\n",
    "axes[2].set_title(\"Test Accuracy\")\n",
    "axes[2].grid(True)\n",
    "plt.tight_layout()\n",
    "plt.show()\n"
   ],
   "metadata": {
    "colab": {
     "base_uri": "https://localhost:8080/",
     "height": 507
    },
    "id": "HdgsuAlIDtaD",
    "outputId": "0abe05dc-a1d4-4498-994e-f3a35c5698f4"
   },
   "execution_count": 10,
   "outputs": [
    {
     "output_type": "display_data",
     "data": {
      "text/plain": [
       "<Figure size 1800x500 with 3 Axes>"
      ],
      "image/png": "[encoded data removed]"
     },
     "metadata": {}
    }
   ]
  },
  {
   "cell_type": "markdown",
   "source": [
    "# Potential Issues\n",
    "- `optim.step()` throws an error ([issue](https://github.com/NX-AI/vision-lstm/issues/16))\n",
    "    - update your pytorch version\n",
    "    - use SGD\n",
    "    - remove lr scheduling (`for param_group in optim.param_groups: param_group[\"lr\"] = lrs[update]`)"
   ],
   "metadata": {
    "collapsed": false
   }
  }
 ]
}